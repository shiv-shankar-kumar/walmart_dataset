{
 "cells": [
  {
   "cell_type": "code",
   "execution_count": 1,
   "id": "93827d33",
   "metadata": {},
   "outputs": [],
   "source": [
    "import pandas as pd\n",
    "from sqlalchemy import create_engine"
   ]
  },
  {
   "cell_type": "code",
   "execution_count": 2,
   "id": "c3482a8b",
   "metadata": {},
   "outputs": [],
   "source": [
    "df = pd.read_csv('walmart_cleaned.csv', encoding_errors= 'ignore')"
   ]
  },
  {
   "cell_type": "code",
   "execution_count": 4,
   "id": "2444da58",
   "metadata": {},
   "outputs": [],
   "source": [
    "import mysql.connector"
   ]
  },
  {
   "cell_type": "code",
   "execution_count": 5,
   "id": "e8361fd1",
   "metadata": {},
   "outputs": [
    {
     "name": "stdout",
     "output_type": "stream",
     "text": [
      "('df_order_list',)\n",
      "('order_details',)\n",
      "('orders',)\n",
      "('pizza_types',)\n",
      "('pizzas',)\n",
      "('sales_2022',)\n",
      "('sales_2023',)\n",
      "('trans',)\n",
      "('walmart',)\n",
      "('walmart_dataset',)\n"
     ]
    }
   ],
   "source": [
    "\n",
    "\n",
    "# Replace with your credentials\n",
    "db_connection = mysql.connector.connect(\n",
    "    host=\"localhost\",\n",
    "    user=\"root\",  # or your MySQL username\n",
    "    password=\"new_password\",  # your password\n",
    "    database=\"shivdb\"  # your database name\n",
    ")\n",
    "\n",
    "# Create a cursor object to interact with the database\n",
    "cursor = db_connection.cursor()\n",
    "\n",
    "# Run a simple query\n",
    "cursor.execute(\"SHOW TABLES;\")\n",
    "\n",
    "# Fetch and print the result\n",
    "tables = cursor.fetchall()\n",
    "for table in tables:\n",
    "    print(table)\n",
    "\n",
    "# Close the connection\n",
    "cursor.close()\n",
    "db_connection.close()\n"
   ]
  },
  {
   "cell_type": "code",
   "execution_count": null,
   "id": "081bf527",
   "metadata": {},
   "outputs": [],
   "source": []
  }
 ],
 "metadata": {
  "kernelspec": {
   "display_name": "my_env",
   "language": "python",
   "name": "python3"
  },
  "language_info": {
   "codemirror_mode": {
    "name": "ipython",
    "version": 3
   },
   "file_extension": ".py",
   "mimetype": "text/x-python",
   "name": "python",
   "nbconvert_exporter": "python",
   "pygments_lexer": "ipython3",
   "version": "3.13.3"
  }
 },
 "nbformat": 4,
 "nbformat_minor": 5
}
